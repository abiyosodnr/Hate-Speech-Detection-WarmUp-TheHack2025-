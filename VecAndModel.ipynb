{
 "cells": [
  {
   "cell_type": "code",
   "execution_count": 1,
   "id": "da002ef9",
   "metadata": {},
   "outputs": [],
   "source": [
    "import pandas as pd\n",
    "import numpy as np"
   ]
  },
  {
   "cell_type": "code",
   "execution_count": 2,
   "id": "db9ea46d",
   "metadata": {},
   "outputs": [],
   "source": [
    "dataPr = pd.read_csv('dataset_pr.csv')"
   ]
  },
  {
   "cell_type": "code",
   "execution_count": 3,
   "id": "654443ef",
   "metadata": {},
   "outputs": [
    {
     "data": {
      "text/html": [
       "<div>\n",
       "<style scoped>\n",
       "    .dataframe tbody tr th:only-of-type {\n",
       "        vertical-align: middle;\n",
       "    }\n",
       "\n",
       "    .dataframe tbody tr th {\n",
       "        vertical-align: top;\n",
       "    }\n",
       "\n",
       "    .dataframe thead th {\n",
       "        text-align: right;\n",
       "    }\n",
       "</style>\n",
       "<table border=\"1\" class=\"dataframe\">\n",
       "  <thead>\n",
       "    <tr style=\"text-align: right;\">\n",
       "      <th></th>\n",
       "      <th>Tweet</th>\n",
       "      <th>HS</th>\n",
       "      <th>Abusive</th>\n",
       "    </tr>\n",
       "  </thead>\n",
       "  <tbody>\n",
       "    <tr>\n",
       "      <th>0</th>\n",
       "      <td>cowok usaha lacak perhati lantas remeh perhati...</td>\n",
       "      <td>1</td>\n",
       "      <td>1</td>\n",
       "    </tr>\n",
       "    <tr>\n",
       "      <th>1</th>\n",
       "      <td>terlambat eluedan sarap gaul cigax jifla cal n...</td>\n",
       "      <td>0</td>\n",
       "      <td>1</td>\n",
       "    </tr>\n",
       "    <tr>\n",
       "      <th>2</th>\n",
       "      <td>kadang berfikir percaya tuhan jatuh berkalikal...</td>\n",
       "      <td>0</td>\n",
       "      <td>0</td>\n",
       "    </tr>\n",
       "    <tr>\n",
       "      <th>3</th>\n",
       "      <td>akunnku mata sipit lihat</td>\n",
       "      <td>0</td>\n",
       "      <td>0</td>\n",
       "    </tr>\n",
       "    <tr>\n",
       "      <th>4</th>\n",
       "      <td>kaum cebong kapir lihat dongok dongok hahahah</td>\n",
       "      <td>1</td>\n",
       "      <td>1</td>\n",
       "    </tr>\n",
       "    <tr>\n",
       "      <th>...</th>\n",
       "      <td>...</td>\n",
       "      <td>...</td>\n",
       "      <td>...</td>\n",
       "    </tr>\n",
       "    <tr>\n",
       "      <th>13164</th>\n",
       "      <td>bicara ndasmu mulut kate anjyng</td>\n",
       "      <td>1</td>\n",
       "      <td>1</td>\n",
       "    </tr>\n",
       "    <tr>\n",
       "      <th>13165</th>\n",
       "      <td>kasur enak kunyuk</td>\n",
       "      <td>0</td>\n",
       "      <td>1</td>\n",
       "    </tr>\n",
       "    <tr>\n",
       "      <th>13166</th>\n",
       "      <td>hati hati bisu gnnlagi bosan mengeluh xfxfxxaa</td>\n",
       "      <td>0</td>\n",
       "      <td>0</td>\n",
       "    </tr>\n",
       "    <tr>\n",
       "      <th>13167</th>\n",
       "      <td>bom real mudah deteksi bom kubur dahsyat ledak...</td>\n",
       "      <td>0</td>\n",
       "      <td>0</td>\n",
       "    </tr>\n",
       "    <tr>\n",
       "      <th>13168</th>\n",
       "      <td>situ foto kutil onta</td>\n",
       "      <td>1</td>\n",
       "      <td>1</td>\n",
       "    </tr>\n",
       "  </tbody>\n",
       "</table>\n",
       "<p>13169 rows × 3 columns</p>\n",
       "</div>"
      ],
      "text/plain": [
       "                                                   Tweet  HS  Abusive\n",
       "0      cowok usaha lacak perhati lantas remeh perhati...   1        1\n",
       "1      terlambat eluedan sarap gaul cigax jifla cal n...   0        1\n",
       "2      kadang berfikir percaya tuhan jatuh berkalikal...   0        0\n",
       "3                               akunnku mata sipit lihat   0        0\n",
       "4          kaum cebong kapir lihat dongok dongok hahahah   1        1\n",
       "...                                                  ...  ..      ...\n",
       "13164                    bicara ndasmu mulut kate anjyng   1        1\n",
       "13165                                  kasur enak kunyuk   0        1\n",
       "13166     hati hati bisu gnnlagi bosan mengeluh xfxfxxaa   0        0\n",
       "13167  bom real mudah deteksi bom kubur dahsyat ledak...   0        0\n",
       "13168                               situ foto kutil onta   1        1\n",
       "\n",
       "[13169 rows x 3 columns]"
      ]
     },
     "execution_count": 3,
     "metadata": {},
     "output_type": "execute_result"
    }
   ],
   "source": [
    "dataPr"
   ]
  },
  {
   "cell_type": "code",
   "execution_count": 4,
   "id": "1b08076c",
   "metadata": {},
   "outputs": [
    {
     "name": "stdout",
     "output_type": "stream",
     "text": [
      "<class 'pandas.core.frame.DataFrame'>\n",
      "RangeIndex: 13169 entries, 0 to 13168\n",
      "Data columns (total 3 columns):\n",
      " #   Column   Non-Null Count  Dtype \n",
      "---  ------   --------------  ----- \n",
      " 0   Tweet    13125 non-null  object\n",
      " 1   HS       13169 non-null  int64 \n",
      " 2   Abusive  13169 non-null  int64 \n",
      "dtypes: int64(2), object(1)\n",
      "memory usage: 308.8+ KB\n"
     ]
    }
   ],
   "source": [
    "dataPr.info()"
   ]
  },
  {
   "cell_type": "code",
   "execution_count": 5,
   "id": "7764ce72",
   "metadata": {},
   "outputs": [
    {
     "data": {
      "text/plain": [
       "Tweet      44\n",
       "HS          0\n",
       "Abusive     0\n",
       "dtype: int64"
      ]
     },
     "execution_count": 5,
     "metadata": {},
     "output_type": "execute_result"
    }
   ],
   "source": [
    "dataPr.isnull().sum()"
   ]
  },
  {
   "cell_type": "code",
   "execution_count": 9,
   "id": "c4474ea3",
   "metadata": {},
   "outputs": [],
   "source": [
    "dataPr = dataPr.dropna()"
   ]
  },
  {
   "cell_type": "markdown",
   "id": "f7f7f74e",
   "metadata": {},
   "source": [
    "VECTORIZEN"
   ]
  },
  {
   "cell_type": "code",
   "execution_count": 6,
   "id": "c0f220fb",
   "metadata": {},
   "outputs": [],
   "source": [
    "from sklearn.feature_extraction.text import TfidfVectorizer"
   ]
  },
  {
   "cell_type": "code",
   "execution_count": 10,
   "id": "932fec67",
   "metadata": {},
   "outputs": [],
   "source": [
    "X = dataPr['Tweet']"
   ]
  },
  {
   "cell_type": "code",
   "execution_count": null,
   "id": "7d184745",
   "metadata": {},
   "outputs": [
    {
     "name": "stdout",
     "output_type": "stream",
     "text": [
      "Bentuk hasil vektor: (13125, 5000)\n"
     ]
    }
   ],
   "source": [
    "vectorizer = TfidfVectorizer(max_features=5000) \n",
    "X_vectorized = vectorizer.fit_transform(X)"
   ]
  },
  {
   "cell_type": "code",
   "execution_count": 15,
   "id": "b1903ff2",
   "metadata": {},
   "outputs": [
    {
     "name": "stdout",
     "output_type": "stream",
     "text": [
      "(13125, 5000)\n"
     ]
    }
   ],
   "source": [
    "print(X_vectorized.shape)"
   ]
  }
 ],
 "metadata": {
  "kernelspec": {
   "display_name": "Python 3",
   "language": "python",
   "name": "python3"
  },
  "language_info": {
   "codemirror_mode": {
    "name": "ipython",
    "version": 3
   },
   "file_extension": ".py",
   "mimetype": "text/x-python",
   "name": "python",
   "nbconvert_exporter": "python",
   "pygments_lexer": "ipython3",
   "version": "3.11.0"
  }
 },
 "nbformat": 4,
 "nbformat_minor": 5
}
